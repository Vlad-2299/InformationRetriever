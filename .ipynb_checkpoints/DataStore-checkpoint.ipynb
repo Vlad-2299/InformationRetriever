{
 "cells": [
  {
   "cell_type": "markdown",
   "id": "68ab34c2",
   "metadata": {},
   "source": [
    "# ElasticSearch DataStore Initialization\n",
    "This notebook serves to initialize the DocumentStore and write to it all the saved passages obtained from <i>PDF_Reader</i> and <i>Web_Scraper</i>"
   ]
  },
  {
   "cell_type": "markdown",
   "id": "629bded3",
   "metadata": {},
   "source": [
    "---"
   ]
  },
  {
   "cell_type": "code",
   "execution_count": 3,
   "id": "f99700e4",
   "metadata": {},
   "outputs": [
    {
     "name": "stdout",
     "output_type": "stream",
     "text": [
      "Collecting haystack\n",
      "  Using cached haystack-0.42-py2.py3-none-any.whl (179 kB)\n",
      "Collecting python-ptrace>=0.8.1\n",
      "  Using cached python_ptrace-0.9.8-py2.py3-none-any.whl (99 kB)\n",
      "Collecting pefile\n",
      "  Downloading pefile-2023.2.7-py3-none-any.whl (71 kB)\n",
      "     ---------------------------------------- 71.8/71.8 kB 4.1 MB/s eta 0:00:00\n",
      "Collecting construct<2.8\n",
      "  Using cached construct-2.5.3.tar.gz (688 kB)\n",
      "  Preparing metadata (setup.py): started\n",
      "  Preparing metadata (setup.py): finished with status 'done'\n",
      "Requirement already satisfied: six in c:\\users\\vlad1\\appdata\\roaming\\python\\python38\\site-packages\\six-1.16.0-py3.8.egg (from construct<2.8->haystack) (1.16.0)\n",
      "Building wheels for collected packages: construct\n",
      "  Building wheel for construct (setup.py): started\n",
      "  Building wheel for construct (setup.py): finished with status 'done'\n",
      "  Created wheel for construct: filename=construct-2.5.3-py2.py3-none-any.whl size=71822 sha256=e8899525fb90e6e55608198a9072bf7e153377a1f28912bb63d028cd85960555\n",
      "  Stored in directory: c:\\users\\vlad1\\appdata\\local\\pip\\cache\\wheels\\2a\\87\\89\\d0b05ff399e4a7554f9050c695f2b300da0fe31bfd317af19f\n",
      "Successfully built construct\n",
      "Installing collected packages: python-ptrace, pefile, construct, haystack\n",
      "Successfully installed construct-2.5.3 haystack-0.42 pefile-2023.2.7 python-ptrace-0.9.8\n"
     ]
    }
   ],
   "source": [
    "!pip install haystack"
   ]
  },
  {
   "cell_type": "code",
   "execution_count": 7,
   "id": "4996a611",
   "metadata": {},
   "outputs": [
    {
     "ename": "ModuleNotFoundError",
     "evalue": "No module named 'haystack.document_store'",
     "output_type": "error",
     "traceback": [
      "\u001b[1;31m---------------------------------------------------------------------------\u001b[0m",
      "\u001b[1;31mModuleNotFoundError\u001b[0m                       Traceback (most recent call last)",
      "Cell \u001b[1;32mIn [7], line 2\u001b[0m\n\u001b[0;32m      1\u001b[0m \u001b[38;5;28;01mimport\u001b[39;00m \u001b[38;5;21;01mrequests\u001b[39;00m\n\u001b[1;32m----> 2\u001b[0m \u001b[38;5;28;01mfrom\u001b[39;00m \u001b[38;5;21;01mhaystack\u001b[39;00m\u001b[38;5;21;01m.\u001b[39;00m\u001b[38;5;21;01mdocument_store\u001b[39;00m \u001b[38;5;28;01mimport\u001b[39;00m ElasticsearchDocumentStore\n\u001b[0;32m      3\u001b[0m \u001b[38;5;28;01mfrom\u001b[39;00m \u001b[38;5;21;01melasticsearch\u001b[39;00m \u001b[38;5;28;01mimport\u001b[39;00m Elasticsearch\n\u001b[0;32m      4\u001b[0m \u001b[38;5;28;01mimport\u001b[39;00m \u001b[38;5;21;01mos\u001b[39;00m\n",
      "\u001b[1;31mModuleNotFoundError\u001b[0m: No module named 'haystack.document_store'"
     ]
    }
   ],
   "source": [
    "import requests\n",
    "from haystack.document_store import ElasticsearchDocumentStore\n",
    "from elasticsearch import Elasticsearch\n",
    "import os\n",
    "import numpy as np\n",
    "import time\n",
    "from os import popen\n",
    "import subprocess"
   ]
  },
  {
   "cell_type": "code",
   "execution_count": 21,
   "id": "1d5c1771",
   "metadata": {},
   "outputs": [],
   "source": [
    "#Path variables\n",
    "\n",
    "file_path = os.getcwd()\n",
    "processed_dir = 'ProcessedData'\n",
    "\n",
    "processed_path = os.path.join(file_path, processed_dir)"
   ]
  },
  {
   "cell_type": "code",
   "execution_count": 22,
   "id": "1f591a75",
   "metadata": {},
   "outputs": [],
   "source": [
    "host = os.environ.get(\"ELASTICSEARCH_HOST\", \"localhost\")\n",
    "\n",
    "#ds_astronomy: document store with data from both papers and web pages\n",
    "ds_astronomy = ElasticsearchDocumentStore(\n",
    "    host=host,\n",
    "    username=\"\",\n",
    "    password=\"\",\n",
    "    index=\"ds_astronomy\"\n",
    ")\n",
    "\n",
    "curr_store = ds_astronomy\n",
    "curr_dir = processed_path\n",
    "localhost = 'http://localhost:9200/ds_astronomy/_count'"
   ]
  },
  {
   "cell_type": "code",
   "execution_count": 24,
   "id": "1f004850",
   "metadata": {},
   "outputs": [],
   "source": [
    "###  Run this cell to get txt content  ###\n",
    "\n",
    "files_txt = []   #Stores the path to all the TXT files\n",
    "\n",
    "for file in os.listdir(os.path.join(file_path, processed_dir)):\n",
    "    # check only txt files\n",
    "    if file.endswith('.txt'):\n",
    "        files_txt.append(file)"
   ]
  },
  {
   "cell_type": "markdown",
   "id": "307b162f",
   "metadata": {},
   "source": [
    "<h2>Start ElasticSearch</h2>\n",
    "C:\\Program Files\\Elastic\\Elasticsearch\\7.11.2\\bin\n",
    "\n",
    "Run elasticsearch.exe as Admin"
   ]
  },
  {
   "cell_type": "code",
   "execution_count": 26,
   "id": "8cedcead",
   "metadata": {},
   "outputs": [
    {
     "data": {
      "text/plain": [
       "{'cluster_name': 'elasticsearch',\n",
       " 'status': 'yellow',\n",
       " 'timed_out': False,\n",
       " 'number_of_nodes': 1,\n",
       " 'number_of_data_nodes': 1,\n",
       " 'active_primary_shards': 5,\n",
       " 'active_shards': 5,\n",
       " 'relocating_shards': 0,\n",
       " 'initializing_shards': 0,\n",
       " 'unassigned_shards': 5,\n",
       " 'delayed_unassigned_shards': 0,\n",
       " 'number_of_pending_tasks': 0,\n",
       " 'number_of_in_flight_fetch': 0,\n",
       " 'task_max_waiting_in_queue_millis': 0,\n",
       " 'active_shards_percent_as_number': 50.0}"
      ]
     },
     "execution_count": 26,
     "metadata": {},
     "output_type": "execute_result"
    }
   ],
   "source": [
    "#Run this cell to ensure that ElasticSearch is running\n",
    "requests.get('http://localhost:9200/_cluster/health').json()"
   ]
  },
  {
   "cell_type": "code",
   "execution_count": 27,
   "id": "87b13ffa",
   "metadata": {},
   "outputs": [
    {
     "data": {
      "text/plain": [
       "'yellow open scrap_astronomy m2wGWiloRf2WBv580_DBig 1 1  12 0 203.7kb 203.7kb\\nyellow open pdf_astronomy   q5fonswfTv-B32EH89kaGw 1 1 263 0   3.9mb   3.9mb\\nyellow open label           QpdbKOnESnanAYyOa1pwKQ 1 1   0 0    208b    208b\\nyellow open astronomy       6ytjQkX2RbGTDV0cp-VGuA 1 1   0 0    208b    208b\\nyellow open ds_astronomy    kl-xrSTTT2OCr8IMEO75MA 1 1   0 0    208b    208b\\n'"
      ]
     },
     "execution_count": 27,
     "metadata": {},
     "output_type": "execute_result"
    }
   ],
   "source": [
    "requests.get('http://localhost:9200/_cat/indices').text"
   ]
  },
  {
   "cell_type": "code",
   "execution_count": 28,
   "id": "bc169388",
   "metadata": {},
   "outputs": [],
   "source": [
    "data = np.empty(len(files_txt), dtype=object) #data[document][paragraph]\n",
    "\n",
    "for file_idx in range(len(files_txt)):\n",
    "    with open(os.path.join(curr_dir, files_txt[file_idx]), 'r', encoding=\"utf-8\") as file:\n",
    "        text = file.read()\n",
    "        text = text.split('\\n')\n",
    "        data[file_idx] = text\n",
    "\n",
    "        file.close()\n"
   ]
  },
  {
   "cell_type": "code",
   "execution_count": 31,
   "id": "143682a9",
   "metadata": {},
   "outputs": [],
   "source": [
    "data_json = np.empty(len(data), dtype=object) #data[document][data]\n",
    "\n",
    "for file_idx in range(len(files_txt)):\n",
    "    title = files_txt[file_idx].split('.txt')[0]\n",
    "    data_json[file_idx] = [\n",
    "        {\n",
    "            'content': paragraph,\n",
    "            'meta': {\n",
    "                'source': title\n",
    "            }\n",
    "        } for paragraph in data[file_idx]\n",
    "    ]"
   ]
  },
  {
   "cell_type": "markdown",
   "id": "c26b3578",
   "metadata": {},
   "source": [
    "Write passages to ElasticSearch DocumentStore"
   ]
  },
  {
   "cell_type": "code",
   "execution_count": 32,
   "id": "4c71dfa2",
   "metadata": {},
   "outputs": [],
   "source": [
    "for json_idx in range(len(data_json)):\n",
    "    curr_store.write_documents(data_json[json_idx])"
   ]
  },
  {
   "cell_type": "code",
   "execution_count": 33,
   "id": "63a6c7dc",
   "metadata": {},
   "outputs": [
    {
     "data": {
      "text/plain": [
       "{'count': 271,\n",
       " '_shards': {'total': 1, 'successful': 1, 'skipped': 0, 'failed': 0}}"
      ]
     },
     "execution_count": 33,
     "metadata": {},
     "output_type": "execute_result"
    }
   ],
   "source": [
    "#'count': shows how many passages are present in the DataStore\n",
    "requests.get(localhost).json()"
   ]
  },
  {
   "cell_type": "code",
   "execution_count": null,
   "id": "5f314c1b",
   "metadata": {},
   "outputs": [],
   "source": []
  }
 ],
 "metadata": {
  "kernelspec": {
   "display_name": "Python 3 (ipykernel)",
   "language": "python",
   "name": "python3"
  },
  "language_info": {
   "codemirror_mode": {
    "name": "ipython",
    "version": 3
   },
   "file_extension": ".py",
   "mimetype": "text/x-python",
   "name": "python",
   "nbconvert_exporter": "python",
   "pygments_lexer": "ipython3",
   "version": "3.8.8"
  }
 },
 "nbformat": 4,
 "nbformat_minor": 5
}
