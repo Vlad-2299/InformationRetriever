{
 "cells": [
  {
   "cell_type": "markdown",
   "id": "39c24d23",
   "metadata": {},
   "source": [
    "# Retriever and Reader\n",
    "In this notebook we implement the dense passage retriever, that returns the most probable document and passage for answering the question. The reader, on the other hand, processes the passage, in order to extract the specific answer to the question"
   ]
  },
  {
   "cell_type": "markdown",
   "id": "574ecd06",
   "metadata": {},
   "source": [
    "---"
   ]
  },
  {
   "cell_type": "code",
   "execution_count": 2,
   "id": "7d6065ab",
   "metadata": {},
   "outputs": [],
   "source": [
    "from haystack.document_stores import ElasticsearchDocumentStore\n",
    "from haystack.nodes import DensePassageRetriever, ElasticsearchRetriever\n",
    "import os\n",
    "from haystack.nodes import FARMReader,TransformersReader\n",
    "from haystack.pipelines import ExtractiveQAPipeline"
   ]
  },
  {
   "cell_type": "markdown",
   "id": "cb6abe39",
   "metadata": {},
   "source": [
    "# Retriever"
   ]
  },
  {
   "cell_type": "markdown",
   "id": "e6b32d4a",
   "metadata": {},
   "source": [
    "<b>ds_astronomy:</b> document store with processed data "
   ]
  },
  {
   "cell_type": "code",
   "execution_count": 4,
   "id": "0f873c6d",
   "metadata": {},
   "outputs": [],
   "source": [
    "host = os.environ.get(\"ELASTICSEARCH_HOST\", \"localhost\")\n",
    "\n",
    "ds_astronomy = ElasticsearchDocumentStore(\n",
    "    host=host,\n",
    "    username=\"\",\n",
    "    password=\"\",\n",
    "    index=\"ds_astronomy\"\n",
    ")\n",
    "\n",
    "curr_store = ds_astronomy\n",
    "localhost = 'http://localhost:9200/ds_astronomy/_count'"
   ]
  },
  {
   "cell_type": "code",
   "execution_count": 30,
   "id": "63b2e809",
   "metadata": {},
   "outputs": [
    {
     "name": "stderr",
     "output_type": "stream",
     "text": [
      "The tokenizer class you load from this checkpoint is not the same type as the class this function is called from. It may result in unexpected tokenization. \n",
      "The tokenizer class you load from this checkpoint is 'DPRQuestionEncoderTokenizer'. \n",
      "The class this function is called from is 'DPRContextEncoderTokenizerFast'.\n"
     ]
    }
   ],
   "source": [
    "# TF-IDF Retriever\n",
    "retriever = DensePassageRetriever(\n",
    "    document_store=ds_astronomy,\n",
    "    query_embedding_model='facebook/dpr-question_encoder-single-nq-base',\n",
    "    passage_embedding_model='facebook/dpr-ctx_encoder-single-nq-base',\n",
    "    use_gpu=True,\n",
    "    embed_title=True\n",
    ")"
   ]
  },
  {
   "cell_type": "markdown",
   "id": "d7240e62",
   "metadata": {},
   "source": [
    "Update the document store with the embbedings of the previously stored passages"
   ]
  },
  {
   "cell_type": "code",
   "execution_count": 8,
   "id": "020108c3",
   "metadata": {},
   "outputs": [
    {
     "data": {
      "application/vnd.jupyter.widget-view+json": {
       "model_id": "a60d8912a2204bdb91ff52bb5652c631",
       "version_major": 2,
       "version_minor": 0
      },
      "text/plain": [
       "Updating embeddings:   0%|          | 0/271 [00:00<?, ? Docs/s]"
      ]
     },
     "metadata": {},
     "output_type": "display_data"
    },
    {
     "data": {
      "application/vnd.jupyter.widget-view+json": {
       "model_id": "4317b8bf0bf844dabaf5699f33f8aee0",
       "version_major": 2,
       "version_minor": 0
      },
      "text/plain": [
       "Create embeddings:   0%|          | 0/272 [00:00<?, ? Docs/s]"
      ]
     },
     "metadata": {},
     "output_type": "display_data"
    }
   ],
   "source": [
    "ds_astronomy.update_embeddings(retriever=retriever)"
   ]
  },
  {
   "cell_type": "code",
   "execution_count": 38,
   "id": "c26fd6f9",
   "metadata": {},
   "outputs": [
    {
     "name": "stderr",
     "output_type": "stream",
     "text": [
      "WARNING:haystack.nodes.retriever.sparse:This class is now deprecated. Please use the BM25Retriever instead\n"
     ]
    }
   ],
   "source": [
    "# BM25 Retriever\n",
    "retriever = ElasticsearchRetriever(\n",
    "    ds_astronomy\n",
    ")"
   ]
  },
  {
   "cell_type": "markdown",
   "id": "7c9d2c49",
   "metadata": {},
   "source": [
    "---"
   ]
  },
  {
   "cell_type": "markdown",
   "id": "34b0e4b2",
   "metadata": {},
   "source": [
    "<h1>Reader</h1>"
   ]
  },
  {
   "cell_type": "code",
   "execution_count": 9,
   "id": "08257867",
   "metadata": {},
   "outputs": [],
   "source": [
    "roberta = \"deepset/roberta-base-squad2\"\n",
    "\n",
    "reader = FARMReader(\n",
    "    model_name_or_path=roberta, \n",
    "    use_gpu=True, \n",
    "    return_no_answer=True, \n",
    "    no_ans_boost=0, \n",
    "    top_k=5\n",
    ")"
   ]
  },
  {
   "cell_type": "markdown",
   "id": "c871d92e",
   "metadata": {},
   "source": [
    "---"
   ]
  },
  {
   "cell_type": "markdown",
   "id": "5ea48226",
   "metadata": {},
   "source": [
    "<h3>Questions</h3>"
   ]
  },
  {
   "cell_type": "code",
   "execution_count": 32,
   "id": "a45b8c80",
   "metadata": {},
   "outputs": [],
   "source": [
    "query1 = 'What is dark matter?'\n",
    "query2 = 'When was the theory of inflation developed?'\n",
    "query3 = 'What size is the smallest black hole?'\n",
    "query4 = 'What is the mass of red dwarfs'\n",
    "query5 = 'How massive are red dwarfs'"
   ]
  },
  {
   "cell_type": "code",
   "execution_count": 74,
   "id": "c955573f",
   "metadata": {},
   "outputs": [
    {
     "name": "stderr",
     "output_type": "stream",
     "text": [
      "Inferencing Samples: 100%|█████████████████████████████████████████████████████████| 1/1 [00:00<00:00,  3.39 Batches/s]\n",
      "Inferencing Samples: 100%|█████████████████████████████████████████████████████████| 1/1 [00:00<00:00,  1.90 Batches/s]\n",
      "Inferencing Samples: 100%|█████████████████████████████████████████████████████████| 1/1 [00:00<00:00,  2.05 Batches/s]\n",
      "Inferencing Samples: 100%|█████████████████████████████████████████████████████████| 1/1 [00:01<00:00,  1.06s/ Batches]\n",
      "Inferencing Samples: 100%|█████████████████████████████████████████████████████████| 1/1 [00:00<00:00,  3.88 Batches/s]\n",
      "Inferencing Samples: 100%|█████████████████████████████████████████████████████████| 1/1 [00:00<00:00,  3.79 Batches/s]\n",
      "Inferencing Samples: 100%|█████████████████████████████████████████████████████████| 1/1 [00:00<00:00,  3.73 Batches/s]\n",
      "Inferencing Samples: 100%|█████████████████████████████████████████████████████████| 1/1 [00:00<00:00,  2.08 Batches/s]\n",
      "Inferencing Samples: 100%|█████████████████████████████████████████████████████████| 1/1 [00:00<00:00,  1.84 Batches/s]\n",
      "Inferencing Samples: 100%|█████████████████████████████████████████████████████████| 1/1 [00:00<00:00,  1.95 Batches/s]\n"
     ]
    }
   ],
   "source": [
    "pipeline = ExtractiveQAPipeline(reader, retriever)\n",
    "\n",
    "result = pipeline.run(query=query1)"
   ]
  },
  {
   "cell_type": "code",
   "execution_count": 75,
   "id": "ec32ea16",
   "metadata": {},
   "outputs": [
    {
     "name": "stdout",
     "output_type": "stream",
     "text": [
      "Q: What is dark matter?\n",
      "A: 'an opportunity to learn more about the fundamental order of the Universe', \n"
     ]
    }
   ],
   "source": [
    "search = True\n",
    "idx = 0\n",
    "while search:\n",
    "    answer = str(result['answers'][idx])\n",
    "    answer = answer.split(\"answer=\")[1]\n",
    "    answer = answer.split(\"score=\")[0]\n",
    "    \n",
    "    if answer.count(' ') <= 1:\n",
    "        idx += 1\n",
    "    else:\n",
    "        search = False\n",
    "    \n",
    "print(f'Q: {result[\"query\"]}\\nA: {answer}')"
   ]
  },
  {
   "cell_type": "code",
   "execution_count": null,
   "id": "1c01f900",
   "metadata": {},
   "outputs": [],
   "source": []
  }
 ],
 "metadata": {
  "kernelspec": {
   "display_name": "Python 3 (ipykernel)",
   "language": "python",
   "name": "python3"
  },
  "language_info": {
   "codemirror_mode": {
    "name": "ipython",
    "version": 3
   },
   "file_extension": ".py",
   "mimetype": "text/x-python",
   "name": "python",
   "nbconvert_exporter": "python",
   "pygments_lexer": "ipython3",
   "version": "3.9.7"
  }
 },
 "nbformat": 4,
 "nbformat_minor": 5
}
