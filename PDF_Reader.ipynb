{
 "cells": [
  {
   "cell_type": "markdown",
   "id": "cdb77ed5",
   "metadata": {},
   "source": [
    "# PDF Reader\n",
    "Running this notebook enables the reading of saved PDF type papers, which are located inside the <b>RawPaperStore</b> folder. Each PDF file is processed and the text content is saved as a TXT file inside the <b>ProcessedPaperStore</b> folder."
   ]
  },
  {
   "cell_type": "markdown",
   "id": "4686a822",
   "metadata": {},
   "source": [
    "---"
   ]
  },
  {
   "cell_type": "code",
   "execution_count": 1,
   "id": "2c9b77d3-4faa-4548-a8aa-9802d6af2f60",
   "metadata": {},
   "outputs": [],
   "source": [
    "from PyPDF2 import PdfFileReader, PdfFileWriter\n",
    "import os\n",
    "import glob\n",
    "import re\n",
    "import string"
   ]
  },
  {
   "cell_type": "code",
   "execution_count": 2,
   "id": "44caa7c6-38c9-4b4e-a0cd-96bd9907c2de",
   "metadata": {},
   "outputs": [],
   "source": [
    "#Defining path variables\n",
    "\n",
    "file_path = os.getcwd()\n",
    "processed_dir = 'ProcessedData'\n",
    "raw_dir = 'RawPapers'\n",
    "\n",
    "processed_path = os.path.join(file_path, processed_dir)\n",
    "raw_path = os.path.join(file_path, raw_dir)"
   ]
  },
  {
   "cell_type": "code",
   "execution_count": 3,
   "id": "cfff3bc1-2ea1-455c-891c-f004928cda84",
   "metadata": {},
   "outputs": [],
   "source": [
    "#Get unprocessed paper names and paper objects \n",
    "\n",
    "paper_titles = []  #Saves the title of each saved paper\n",
    "files_pdf = []     #Saves the PdfFileReader object, for each paper\n",
    "\n",
    "for file in os.listdir(os.path.join(file_path, raw_dir)):\n",
    "    # check only pdf files\n",
    "    if file.endswith('.pdf'):\n",
    "        curr_file_path = os.path.join(raw_path, file)\n",
    "        files_pdf.append(PdfFileReader(curr_file_path))\n",
    "        paper_titles.append(file.split('.pdf')[0])\n",
    "        "
   ]
  },
  {
   "cell_type": "code",
   "execution_count": 4,
   "id": "79a40957",
   "metadata": {},
   "outputs": [],
   "source": [
    "def text_preprocessing(input_text):\n",
    "    ponctuation = \"#$()*+-/:;<=>@[\\]^_`{|}\"\n",
    "    special_characters = 'å¼«¥ª°©ð±§µæ¹¢³¿®ä£⊙'\n",
    "    email = '[a-z0-9._%+-]+@[a-z0-9.-]+\\.[a-z]{2,}'\n",
    "    itemized = '[(\\s][0-9a-zA-Z][.)]\\s+|[(\\s][ivxIVX]+[.)]\\s+'\n",
    "    \n",
    "    processed_text = re.sub(\"\\[.*?\\]\", \"\", input_text)                                   #Removes ref numbering (e.g. [1])\n",
    "    processed_text = re.sub(email, '', processed_text)                                   #Removes email\n",
    "    processed_text = processed_text.translate(str.maketrans('', '', ponctuation))        #Removes some ponctuation\n",
    "    processed_text = processed_text.translate(str.maketrans('', '', special_characters)) #Removes special characters\n",
    "    processed_text = ' '.join(re.split('\\s+', processed_text.strip(), flags=re.UNICODE)) #Removes duplicated spaces\n",
    "    processed_text = re.sub(\"\\n\", \" \", processed_text)                                   #Removes PDF's new line\n",
    "    processed_text = re.sub(itemized, ' ', processed_text)\n",
    "    \n",
    "    return processed_text"
   ]
  },
  {
   "cell_type": "code",
   "execution_count": 5,
   "id": "d29070f9",
   "metadata": {},
   "outputs": [
    {
     "data": {
      "text/plain": [
       "['Dark Energy by Robert Caldwell',\n",
       " 'Dark Matter A Primer',\n",
       " 'Geophysical Classification of Planets, Dwarf Planets, and Moons',\n",
       " 'SuperNova Stages']"
      ]
     },
     "execution_count": 5,
     "metadata": {},
     "output_type": "execute_result"
    }
   ],
   "source": [
    "paper_titles"
   ]
  },
  {
   "cell_type": "code",
   "execution_count": 6,
   "id": "94ce709d-b18e-450b-8430-1b7ea4267cf6",
   "metadata": {},
   "outputs": [
    {
     "name": "stdout",
     "output_type": "stream",
     "text": [
      "Dark Energy by Robert Caldwell - was saved successfully\n",
      "Dark Matter A Primer - was saved successfully\n",
      "Geophysical Classification of Planets, Dwarf Planets, and Moons - was saved successfully\n",
      "SuperNova Stages - was saved successfully\n"
     ]
    }
   ],
   "source": [
    "black_list = ['Acknowledgment', 'References', 'Apendix']\n",
    "for paper_idx in range(len(files_pdf)):\n",
    "    #if paper_titles[paper_idx] == 'Dark Matter A Primer':\n",
    "    with open(os.path.join(processed_path, paper_titles[paper_idx])+'.txt', 'w', encoding=\"utf-8\") as f:\n",
    "        stop_process = False\n",
    "        for page_num in range(files_pdf[paper_idx].numPages):\n",
    "\n",
    "            pageObj = files_pdf[paper_idx].getPage(page_num)\n",
    "\n",
    "            try: \n",
    "                page_content = pageObj.extractText()\n",
    "                page_content = page_content.split('.\\n')\n",
    "                for paragraph_idx in range(len(page_content)): #For each paragraph\n",
    "                    sentence = []\n",
    "                    sent = page_content[paragraph_idx].split('\\n')\n",
    "                    \n",
    "                    if sent[0] not in black_list and sent[0][0] != '[' and not sent[0][1].isdigit():\n",
    "                        \n",
    "                        for sent_idx in range(len(sent)):             #For each sent\n",
    "                            if sent[sent_idx].count(' ') > 1:\n",
    "                                sentence.append(sent[sent_idx])\n",
    "                        paragraph = ' '.join(sentence)\n",
    "\n",
    "                        paragraph = text_preprocessing(paragraph)\n",
    "                        \n",
    "                        paragraph = paragraph + '.\\n'\n",
    "                        #print(paragraph)\n",
    "                        if paragraph.count(' ') > 5:\n",
    "                            pass\n",
    "                            f.write(paragraph)\n",
    "                    else:\n",
    "                        stop_process = True\n",
    "                        break\n",
    "            except:\n",
    "                pass\n",
    "        f.close()\n",
    "        print(f'{paper_titles[paper_idx]} - was saved successfully')"
   ]
  },
  {
   "cell_type": "code",
   "execution_count": null,
   "id": "56313405",
   "metadata": {},
   "outputs": [],
   "source": []
  }
 ],
 "metadata": {
  "kernelspec": {
   "display_name": "Python 3",
   "language": "python",
   "name": "python3"
  },
  "language_info": {
   "codemirror_mode": {
    "name": "ipython",
    "version": 3
   },
   "file_extension": ".py",
   "mimetype": "text/x-python",
   "name": "python",
   "nbconvert_exporter": "python",
   "pygments_lexer": "ipython3",
   "version": "3.9.7"
  },
  "vscode": {
   "interpreter": {
    "hash": "3c28207cbf101b5fd31f062ed72814c7d2a1b366155535ea78ffa95e3f97ec6b"
   }
  }
 },
 "nbformat": 4,
 "nbformat_minor": 5
}
